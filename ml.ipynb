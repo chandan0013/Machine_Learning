{
 "cells": [
  {
   "cell_type": "markdown",
   "metadata": {
    "slideshow": null
   },
   "source": [
    "# ML: Predicting Star Ratings\n"
   ]
  },
  {
   "cell_type": "markdown",
   "metadata": {
    "slideshow": null
   },
   "source": [
    "Our objective is to predict a new venue's popularity from information available when the venue opens.  We will do this by machine learning from a data set of venue popularities provided by Yelp.  The data set contains meta data about the venue (where it is located, the type of food served, etc.).  It also contains a star rating. Note that the venues are not limited to restaurants. This tutorial will walk you through one way to build a machine-learning algorithm.\n"
   ]
  },
  {
   "cell_type": "markdown",
   "metadata": {
    "slideshow": null
   },
   "source": [
    "## Metric\n"
   ]
  },
  {
   "cell_type": "markdown",
   "metadata": {
    "slideshow": null
   },
   "source": [
    "Your model will be assessed based on the root mean squared error of the number of stars you predict.  There is a reference solution (which should not be too hard to beat).  The reference solution has a score of 1. Keeping this in mind...\n"
   ]
  },
  {
   "cell_type": "markdown",
   "metadata": {
    "slideshow": null
   },
   "source": [
    "## A note on scoring"
   ]
  },
  {
   "cell_type": "markdown",
   "metadata": {
    "slideshow": null
   },
   "source": [
    "It **is** possible to score >1 on these questions. This indicates that you've beaten our reference model - we compare our model's score on a test set to your score on a test set. See how high you can go!\n",
    "\n"
   ]
  },
  {
   "cell_type": "markdown",
   "metadata": {
    "slideshow": null
   },
   "source": [
    "## Download and parse the incoming data\n"
   ]
  },
  {
   "cell_type": "markdown",
   "metadata": {
    "slideshow": null
   },
   "source": [
    "We start by downloading the data set from Amazon S3:"
   ]
  },
  {
   "cell_type": "code",
   "execution_count": 3,
   "metadata": {
    "slideshow": null
   },
   "outputs": [
    {
     "name": "stdout",
     "output_type": "stream",
     "text": [
      "download: s3://dataincubator-course/mldata/yelp_train_academic_dataset_business.json.gz to ./yelp_train_academic_dataset_business.json.gz\n"
     ]
    }
   ],
   "source": [
    "!aws s3 sync s3://dataincubator-course/mldata/ . --exclude '*' --include 'yelp_train_academic_dataset_business.json.gz'"
   ]
  },
  {
   "cell_type": "markdown",
   "metadata": {
    "slideshow": null
   },
   "source": [
    "The training data are a series of JSON objects, in a Gzipped file. Python supports Gzipped files natively: [`gzip.open`](https://docs.python.org/3/library/gzip.html) has the same interface as `open`, but handles `.gz` files automatically.\n",
    "\n",
    "The built-in json package has a `loads()` function that converts a JSON string into a Python dictionary.  We could call that once for each row of the file. [`ujson`](http://docs.micropython.org/en/latest/library/ujson.html) has the same interface as the built-in `json` library, but is *substantially* faster (at the cost of non-robust handling of malformed json).  We will use that inside a list comprehension to get a list of dictionaries:"
   ]
  },
  {
   "cell_type": "code",
   "execution_count": 4,
   "metadata": {
    "slideshow": null
   },
   "outputs": [],
   "source": [
    "import ujson as json\n",
    "import gzip\n",
    "\n",
    "with gzip.open('yelp_train_academic_dataset_business.json.gz') as f:\n",
    "    data = [json.loads(line) for line in f]"
   ]
  },
  {
   "cell_type": "markdown",
   "metadata": {
    "slideshow": null
   },
   "source": [
    "In Scikit Learn, the labels to be predicted, in this case, the stars, are always kept in a separate data structure than the features.  Let's get in this habit now, by creating a separate list of the ratings:"
   ]
  },
  {
   "cell_type": "markdown",
   "metadata": {
    "slideshow": null
   },
   "source": [
    "### Notes:"
   ]
  },
  {
   "cell_type": "markdown",
   "metadata": {
    "slideshow": null
   },
   "source": [
    "1. [Pandas](http://pandas.pydata.org/) is able to read JSON text directly.  Use the `read_json()` function with the `lines=True` keyword argument.  While the rest of this notebook will assume you are using a list of dictionaries, you can complete it with dataframes, if you so desire.  Some of the example code will need to be modified in this case.\n",
    "\n",
    "2. There are obvious mistakes in the data.  There is no need to try to correct them.\n"
   ]
  },
  {
   "cell_type": "markdown",
   "metadata": {
    "slideshow": null
   },
   "source": [
    "## Building models\n"
   ]
  },
  {
   "cell_type": "markdown",
   "metadata": {
    "slideshow": null
   },
   "source": [
    "For many of the questions below, you will need to build and train an estimator that predicts the star rating given certain features.  This could be a custom estimator that you built from scratch, but in most cases will be a pipeline containing custom or pre-built transformers and an existing estimator.  We will give you hints of how to proceed, but the only requirement for you is to produce a model that does as well, or better, than the reference models we created.  You are welcome to do this however you like. The details are up to you.\n",
    "\n",
    "The formats of the input and output to the `fit()` and `predict()` methods are ultimately up to you as well, but we recommend that you deal with lists or arrays, for consistency with the rest of Scikit Learn.  It is also a good idea to take the same type of data for the feature matrix in both `fit()` and `predict()`.  While it is tempting to read the stars from the feature matrix X, you should get in the habit of passing the labels as a separate argument to the `fit()` method.\n",
    "\n",
    "You may find it useful to serialize the trained models to disk.  This will allow to reload it after restarting the Jupyter notebook, without needing to retrain it.  We recommend using the [`dill` library](https://pypi.python.org/pypi/dill) for this (although the [`joblib` library](http://scikit-learn.org/stable/modules/model_persistence.html) also works).  Use\n",
    "```python\n",
    "dill.dump(estimator, open('estimator.dill', 'w'))\n",
    "```\n",
    "to serialize the object `estimator` to the file `estimator.dill`.  If you have trouble with this, try setting the `recurse=True` keyword arguments in the call of `dill.dump()`.  The estimator can be deserialized by calling\n",
    "```python\n",
    "estimator = dill.load(open('estimator.dill', 'r'))\n",
    "```"
   ]
  },
  {
   "cell_type": "markdown",
   "metadata": {
    "slideshow": null
   },
   "source": [
    "# Questions\n"
   ]
  },
  {
   "cell_type": "markdown",
   "metadata": {
    "slideshow": null
   },
   "source": [
    "Each of the \"model\" questions asks you to create a function that models the number of stars venues will receive.  It will be passed a list of dictionaries.  Each of these will have the same format as the JSON objects you've just read in.  Some of the keys (like the stars!) will have been removed.  This function should return a list of numbers of the same length, indicating the predicted star ratings.\n",
    "\n",
    "This function is passed to the `score()` function, which will receive input from the grader, run your function with that input, report the results back to the grader, and print out the score the grader returned.  Depending on how you constructed your estimator, you may be able to pass the predict method directly to the `score()` function.  If not, you will need to write a small wrapper function to mediate the data types.\n"
   ]
  },
  {
   "cell_type": "markdown",
   "metadata": {
    "slideshow": null
   },
   "source": [
    "## city_avg"
   ]
  },
  {
   "cell_type": "markdown",
   "metadata": {
    "slideshow": null
   },
   "source": [
    "The venues belong to different cities.  You can imagine that the ratings in some cities are probably higher than others.  We wish to build an estimator to make a prediction based on this, but first we need to work out the average rating for each city.  For this problem, create a list of tuples (city name, star rating), one for each city in the data set.\n",
    "\n",
    "There are many ways to do this; please feel free to experiment on your own.  If you get stuck, the steps below attempt to guide you through the process.\n",
    "\n",
    "A simple approach is to go through all of the dictionaries in our array, calculating the sum of the star ratings and the number of venues for each city.  At the end, we can just divide the stars by the count to get the average.\n",
    "\n",
    "We could create a separate sum and count variable for each city, but that will get tedious quickly.  A better approach is to create a dictionary for each.  The key will be the city name, and the value the running sum or running count.\n",
    "\n",
    "One slight annoyance of this approach is that we will have to test whether a key exists in the dictionary before adding to the running tally.  The collections module's `defaultdict` class works around this by providing default values for keys that haven't been used.  Thus, if we do"
   ]
  },
  {
   "cell_type": "code",
   "execution_count": 10,
   "metadata": {},
   "outputs": [
    {
     "data": {
      "text/plain": [
       "167"
      ]
     },
     "execution_count": 10,
     "metadata": {},
     "output_type": "execute_result"
    }
   ],
   "source": [
    "len(avg_stars)"
   ]
  },
  {
   "cell_type": "code",
   "execution_count": 11,
   "metadata": {
    "slideshow": null
   },
   "outputs": [
    {
     "name": "stdout",
     "output_type": "stream",
     "text": [
      "==================\n",
      "Your score:  1.0\n",
      "==================\n"
     ]
    }
   ],
   "source": [
    "grader.score('ml__city_avg', list(avg_stars.items()))"
   ]
  },
  {
   "cell_type": "markdown",
   "metadata": {
    "slideshow": null
   },
   "source": [
    "## city_model"
   ]
  },
  {
   "cell_type": "markdown",
   "metadata": {
    "slideshow": null
   },
   "source": [
    "Now, let's build a custom estimator that will make a prediction based solely on the city of a venue.  It is tempting to hard-code the answers from the previous section into this model, but we're going to resist and do things properly.\n",
    "\n",
    "This custom estimator will have a `.fit()` method.  It will receive `data` as its argument `X` and `star_ratings` as `y`, and should repeat the calculation of the previous problem there.  Then the `.predict()` method can look up the average rating for the city of each record it receives."
   ]
  },
  {
   "cell_type": "code",
   "execution_count": 60,
   "metadata": {
    "slideshow": null
   },
   "outputs": [],
   "source": [
    "from sklearn import base\n",
    "import numpy as np\n",
    "class CityEstimator(base.BaseEstimator, base.RegressorMixin):\n",
    "    \n",
    "    def __init__(self):\n",
    "        self.avg_stars = dict()\n",
    "    \n",
    "    def fit(self, X, y):\n",
    "        star_sum = defaultdict(int)\n",
    "        count = defaultdict(int)\n",
    "        # First step\n",
    "        ####\n",
    "        # Second step \n",
    "        ######\n",
    "        return self\n",
    "    \n",
    "    def predict(self, X):\n",
    "        result = list()\n",
    "        for row in X:\n",
    "            #####\n",
    "        return result\n"
   ]
  },
  {
   "cell_type": "markdown",
   "metadata": {
    "slideshow": null
   },
   "source": [
    "Now we can create an instance of our estimator and train it."
   ]
  },
  {
   "cell_type": "code",
   "execution_count": 61,
   "metadata": {
    "slideshow": null
   },
   "outputs": [
    {
     "data": {
      "text/plain": [
       "CityEstimator()"
      ]
     },
     "execution_count": 61,
     "metadata": {},
     "output_type": "execute_result"
    }
   ],
   "source": [
    "city_est = CityEstimator()\n",
    "city_est.fit(data, star_ratings)"
   ]
  },
  {
   "cell_type": "markdown",
   "metadata": {
    "slideshow": null
   },
   "source": [
    "And let's see if it works."
   ]
  },
  {
   "cell_type": "code",
   "execution_count": 21,
   "metadata": {},
   "outputs": [
    {
     "data": {
      "text/plain": [
       "{'business_id': 'vcNAWiLM4dR7D2nwwJ7nCA',\n",
       " 'full_address': '4840 E Indian School Rd\\nSte 101\\nPhoenix, AZ 85018',\n",
       " 'hours': {'Tuesday': {'close': '17:00', 'open': '08:00'},\n",
       "  'Friday': {'close': '17:00', 'open': '08:00'},\n",
       "  'Monday': {'close': '17:00', 'open': '08:00'},\n",
       "  'Wednesday': {'close': '17:00', 'open': '08:00'},\n",
       "  'Thursday': {'close': '17:00', 'open': '08:00'}},\n",
       " 'open': True,\n",
       " 'categories': ['Doctors', 'Health & Medical'],\n",
       " 'city': 'Phoenix',\n",
       " 'review_count': 7,\n",
       " 'name': 'Eric Goldberg, MD',\n",
       " 'neighborhoods': [],\n",
       " 'longitude': -111.983758,\n",
       " 'state': 'AZ',\n",
       " 'stars': 3.5,\n",
       " 'latitude': 33.499313,\n",
       " 'attributes': {'By Appointment Only': True},\n",
       " 'type': 'business'}"
      ]
     },
     "execution_count": 21,
     "metadata": {},
     "output_type": "execute_result"
    }
   ],
   "source": [
    "#Business Id, Address, hours,categories,city,review_count,.... about 19k\n",
    "data[0]"
   ]
  },
  {
   "cell_type": "code",
   "execution_count": 52,
   "metadata": {
    "slideshow": null
   },
   "outputs": [
    {
     "data": {
      "text/plain": [
       "[3.6702903946388683, 3.75, 3.75, 3.75, 3.75]"
      ]
     },
     "execution_count": 52,
     "metadata": {},
     "output_type": "execute_result"
    }
   ],
   "source": [
    "city_est.predict(data[:5])  # should return star prediction for first 5 entries."
   ]
  },
  {
   "cell_type": "code",
   "execution_count": 49,
   "metadata": {},
   "outputs": [
    {
     "data": {
      "text/plain": [
       "True"
      ]
     },
     "execution_count": 49,
     "metadata": {},
     "output_type": "execute_result"
    }
   ],
   "source": [
    "'Phoenix' in avg_stars"
   ]
  },
  {
   "cell_type": "code",
   "execution_count": 63,
   "metadata": {
    "slideshow": null
   },
   "outputs": [
    {
     "name": "stdout",
     "output_type": "stream",
     "text": [
      "==================\n",
      "Your score:  0.9936775520299643\n",
      "==================\n"
     ]
    }
   ],
   "source": [
    "grader.score('ml__city_model', city_est.predict)"
   ]
  },
  {
   "cell_type": "markdown",
   "metadata": {
    "slideshow": null
   },
   "source": [
    "## lat_long_model"
   ]
  },
  {
   "cell_type": "markdown",
   "metadata": {
    "slideshow": null
   },
   "source": [
    "You can imagine that a city-based model might not be sufficiently fine-grained. For example, we know that some neighborhoods are trendier than others.  Use the latitude and longitude of a venue as features that help you understand neighborhood dynamics.\n",
    "\n",
    "Instead of writing a custom estimator, we'll use one of the built-in estimators in Scikit Learn.  Since these estimators won't know what to do with a list of dictionaries, we'll build a `ColumnSelectTransformer` that will return an array containing selected keys of our feature matrix.  While it is tempting to hard-code the latitude and longitude in here, this transformer will be more useful in the future if we write it to work on an arbitrary list of columns."
   ]
  },
  {
   "cell_type": "code",
   "execution_count": 1065,
   "metadata": {
    "slideshow": null
   },
   "outputs": [],
   "source": [
    "class ColumnSelectTransformer(base.BaseEstimator, base.TransformerMixin):\n",
    "    \n",
    "    def __init__(self, col_names):\n",
    "        self.col_names = col_names  # We will need these in transform()\n",
    "    \n",
    "    def fit(self, X, y):\n",
    "        # This transformer doesn't need to learn anything about the data,\n",
    "        # so it can just return self without any further processing\n",
    "        return self\n",
    "    \n",
    "    def transform(self, X):\n",
    "        result = []\n",
    "        for ele in X:\n",
    "            #####\n",
    "        return result\n",
    "        # Return an array with the same number of rows as X and one\n",
    "        # column for each in self.col_names"
   ]
  },
  {
   "cell_type": "markdown",
   "metadata": {
    "slideshow": null
   },
   "source": [
    "The `KNeighborsRegressor` takes the `n_neighbors` hyperparameter, which tells it how many nearest neighbors to average together when making a prediction.  There is no reason to believe that 5 is the optimum value.  Determine a better value of this hyperparameter.   There are several ways to do this:\n",
    "\n",
    "1. Use [`train_test_split`](http://scikit-learn.org/stable/modules/generated/sklearn.model_selection.train_test_split.html#sklearn.model_selection.train_test_split) to split your data in to a training set and a test set.  Score the performance on the test set.  After finding the best hyperparameter, retrain the model on the full data at that hyperparameter value.\n",
    "\n",
    "2. Use [`cross_val_score`](http://scikit-learn.org/stable/modules/generated/sklearn.model_selection.cross_val_score.html#sklearn.model_selection.cross_val_score) to return cross-validation scores on your data for various values of the hyperparameter.  Choose the best one, and retrain the model on the full data.\n",
    "\n",
    "3. Use [`GridSearchCV`](http://scikit-learn.org/stable/modules/generated/sklearn.model_selection.GridSearchCV.html#sklearn.model_selection.GridSearchCV) to do the splitting, training, and grading automatically.  `GridSearchCV` takes an estimator and acts as an estimator.  You can either give it the `KNeighborsRegressor` directly and put it in a pipeline, or you can pass the whole pipeline into the `GridSearchCV`.  In the latter case, remember that the hyperparameter `param` of an estimator named `est` in a pipeline becomes a hyperparameter of the pipeline with name `est__param`.\n",
    "\n",
    "No matter which you choose, you should consider whether the data need to be shuffled.  The default k-folds split doesn't shuffle.  This is fine, if the data are already random.  The code below will plot a rolling mean of the star ratings.  Do you need to shuffle the data?"
   ]
  },
  {
   "cell_type": "code",
   "execution_count": 71,
   "metadata": {
    "slideshow": null
   },
   "outputs": [
    {
     "data": {
      "text/plain": [
       "[<matplotlib.lines.Line2D at 0x7f1d3459b8d0>]"
      ]
     },
     "execution_count": 71,
     "metadata": {},
     "output_type": "execute_result"
    },
    {
     "data": {
      "image/png": "[encoded data removed]",
      "text/plain": [
       "<Figure size 432x288 with 1 Axes>"
      ]
     },
     "metadata": {},
     "output_type": "display_data"
    }
   ],
   "source": [
    "from pandas import Series\n",
    "import matplotlib.pyplot as plt\n",
    "\n",
    "plt.plot(Series.rolling(Series(star_ratings), window=1000).mean())"
   ]
  },
  {
   "cell_type": "code",
   "execution_count": 73,
   "metadata": {
    "slideshow": null
   },
   "outputs": [
    {
     "name": "stdout",
     "output_type": "stream",
     "text": [
      "==================\n",
      "Your score:  1.0807176915019048\n",
      "==================\n"
     ]
    }
   ],
   "source": [
    "grader.score('ml__lat_long_model', pipe.predict)  # Edit to appropriate name"
   ]
  },
  {
   "cell_type": "markdown",
   "metadata": {
    "slideshow": null
   },
   "source": [
    "## category_model"
   ]
  },
  {
   "cell_type": "markdown",
   "metadata": {
    "slideshow": null
   },
   "source": [
    "While location is important, we could also try seeing how predictive the\n",
    "venue's category is.  Build an estimator that considers only the categories.\n",
    "\n",
    "The categories come as a list of strings, but the built-in estimators all need numeric input.  The standard way to deal with categorical features is **one-hot encoding**, also known as dummy variables.  In this approach, each category gets its own column in the feature matrix.  If the row has a given category, that column gets filled with a 1.  Otherwise, it is 0.\n",
    "\n",
    "The `ColumnSelectTransformer` from the previous question can be used to extract the categories column as a list of strings.  Scikit Learn provides [`DictVectorizer`](http://scikit-learn.org/stable/modules/generated/sklearn.feature_extraction.DictVectorizer.html#sklearn.feature_extraction.DictVectorizer), which takes in a list of dictionaries.  It creates a column in the output matrix for each key in the dictionary and fills it with the value associated with it.  Missing keys are filled with zeros.  Therefore, we need only build a transformer that takes a list of strings to a dictionary with keys given by those strings and values of one."
   ]
  },
  {
   "cell_type": "code",
   "execution_count": 295,
   "metadata": {
    "slideshow": null
   },
   "outputs": [],
   "source": [
    "class DictEncoder(base.BaseEstimator, base.TransformerMixin):\n",
    "    \n",
    "    def fit(self, X, y=None):\n",
    "        self.X = X\n",
    "        return self\n",
    "    \n",
    "    def transform(self, X):\n",
    "        temp = []\n",
    "        for i in X:\n",
    "            ######\n",
    "        return res_dict\n",
    "        # X will come in as a list of lists of lists.  Return a list of\n",
    "        # dictionaries corresponding to those inner lists."
   ]
  },
  {
   "cell_type": "code",
   "execution_count": 564,
   "metadata": {},
   "outputs": [
    {
     "data": {
      "text/plain": [
       "[{'Doctors': 1, 'Health & Medical': 1}, {'Restaurants': 1}]"
      ]
     },
     "execution_count": 564,
     "metadata": {},
     "output_type": "execute_result"
    }
   ],
   "source": [
    "cst = ColumnSelectTransformer(['categories'])\n",
    "X = cst.fit_transform(data[:2])\n",
    "attr = DictEncoder()\n",
    "feat = attr.fit_transform(X)\n",
    "feat"
   ]
  },
  {
   "cell_type": "code",
   "execution_count": 1462,
   "metadata": {
    "slideshow": null
   },
   "outputs": [],
   "source": [
    "from sklearn.feature_extraction import DictVectorizer\n",
    "from sklearn.pipeline import Pipeline\n",
    "from sklearn.linear_model import Ridge\n",
    "\n",
    "pipe_2 = Pipeline([\n",
    "    ('transform',ColumnSelectTransformer(['categories'])),\n",
    "    ('Enc',DictEncoder()),\n",
    "    ('Vec',DictVectorizer(sparse=False)),\n",
    "    ('Ridge',Ridge(alpha=30))\n",
    "    ])"
   ]
  },
  {
   "cell_type": "code",
   "execution_count": 1463,
   "metadata": {},
   "outputs": [
    {
     "data": {
      "text/plain": [
       "Pipeline(memory=None,\n",
       "         steps=[('transform',\n",
       "                 ColumnSelectTransformer(col_names=['categories'])),\n",
       "                ('Enc', DictEncoder()),\n",
       "                ('Vec',\n",
       "                 DictVectorizer(dtype=<class 'numpy.float64'>, separator='=',\n",
       "                                sort=True, sparse=False)),\n",
       "                ('Ridge',\n",
       "                 Ridge(alpha=30, copy_X=True, fit_intercept=True, max_iter=None,\n",
       "                       normalize=False, random_state=None, solver='auto',\n",
       "                       tol=0.001))],\n",
       "         verbose=False)"
      ]
     },
     "execution_count": 1463,
     "metadata": {},
     "output_type": "execute_result"
    }
   ],
   "source": [
    "pipe_2.fit(data[:5], star_ratings[:5])"
   ]
  },
  {
   "cell_type": "code",
   "execution_count": 1465,
   "metadata": {},
   "outputs": [
    {
     "data": {
      "text/plain": [
       "array([3.95454545])"
      ]
     },
     "execution_count": 1465,
     "metadata": {},
     "output_type": "execute_result"
    }
   ],
   "source": [
    "pipe_2.predict(data[:1])"
   ]
  },
  {
   "cell_type": "code",
   "execution_count": 302,
   "metadata": {
    "slideshow": null
   },
   "outputs": [
    {
     "name": "stdout",
     "output_type": "stream",
     "text": [
      "==================\n",
      "Your score:  1.011054615644989\n",
      "==================\n"
     ]
    }
   ],
   "source": [
    "grader.score('ml__category_model', pipe_2.predict)  # Edit to appropriate name"
   ]
  },
  {
   "cell_type": "markdown",
   "metadata": {
    "slideshow": null
   },
   "source": [
    "*Extension:* Some categories (e.g. Restaurants) are not very specific.  Others (Japanese sushi) are much more so.  One way to deal with this is with an measure call term-frequency-inverse-document-frequency (TF-IDF).  Add in a `sklearn.feature_extraction.text.TfidfTransformer` between the `DictVectorizer` and the linear model, and see if that improves performance.\n",
    "\n",
    "*Extension:* Can you beat the performance of the linear estimator with a\n",
    "non-linear model?"
   ]
  },
  {
   "cell_type": "markdown",
   "metadata": {
    "slideshow": null
   },
   "source": [
    "## attribute_model"
   ]
  },
  {
   "cell_type": "markdown",
   "metadata": {
    "slideshow": null
   },
   "source": [
    "There is even more information in the attributes for each venue.  Let's build an estimator based on these.\n",
    "\n",
    "Venues attributes may be nested:\n",
    "```\n",
    "{\n",
    "  'Attire': 'casual',\n",
    "  'Accepts Credit Cards': True,\n",
    "  'Ambiance': {'casual': False, 'classy': False}\n",
    "}\n",
    "```\n",
    "We wish to encode them with one-hot encoding.  The `DictVectorizer` can do this, but only once we've flattened the dictionary to a single level, like so:\n",
    "```\n",
    "{\n",
    "  'Attire_casual' : 1,\n",
    "  'Accepts Credit Cards': 1,\n",
    "  'Ambiance_casual': 0,\n",
    "  'Ambiance_classy': 0\n",
    "}\n",
    "```\n",
    "\n",
    "Build a custom transformer that flattens the attributes dictionary.  Place this in a pipeline with a `DictVectorizer` and a regressor.\n",
    "\n",
    "You may find it difficult to find a single regressor that does well enough.  A common solution is to use a linear model to fit the linear part of some data, and use a non-linear model to fit the residual that the linear model can't fit.  Build a residual estimator that takes as an argument two other estimators.  It should use the first to fit the raw data and the second to fit the residuals of the first."
   ]
  },
  {
   "cell_type": "code",
   "execution_count": 726,
   "metadata": {},
   "outputs": [
    {
     "data": {
      "text/plain": [
       "[{'By Appointment Only': 1},\n",
       " {'Take-out': 1,\n",
       "  'Good For_dessert': 0,\n",
       "  'Good For_latenight': 0,\n",
       "  'Good For_lunch': 1,\n",
       "  'Good For_dinner': 0,\n",
       "  'Good For_breakfast': 0,\n",
       "  'Good For_brunch': 0,\n",
       "  'Caters': 0,\n",
       "  'Noise Level_average': 1,\n",
       "  'Takes Reservations': 0,\n",
       "  'Delivery': 0,\n",
       "  'Ambience_romantic': 0,\n",
       "  'Ambience_intimate': 0,\n",
       "  'Ambience_touristy': 0,\n",
       "  'Ambience_hipster': 0,\n",
       "  'Ambience_divey': 0,\n",
       "  'Ambience_classy': 0,\n",
       "  'Ambience_trendy': 0,\n",
       "  'Ambience_upscale': 0,\n",
       "  'Ambience_casual': 0,\n",
       "  'Parking_garage': 0,\n",
       "  'Parking_street': 0,\n",
       "  'Parking_validated': 0,\n",
       "  'Parking_lot': 1,\n",
       "  'Parking_valet': 0,\n",
       "  'Has TV': 1,\n",
       "  'Outdoor Seating': 0,\n",
       "  'Attire_casual': 1,\n",
       "  'Alcohol_none': 1,\n",
       "  'Waiter Service': 1,\n",
       "  'Accepts Credit Cards': 1,\n",
       "  'Good for Kids': 1,\n",
       "  'Good For Groups': 1,\n",
       "  'Price Range': 1},\n",
       " {'Take-out': 1,\n",
       "  'Good For_dessert': 0,\n",
       "  'Good For_latenight': 0,\n",
       "  'Good For_lunch': 0,\n",
       "  'Good For_dinner': 0,\n",
       "  'Good For_breakfast': 0,\n",
       "  'Good For_brunch': 1,\n",
       "  'Caters': 0,\n",
       "  'Noise Level_quiet': 1,\n",
       "  'Takes Reservations': 0,\n",
       "  'Delivery': 0,\n",
       "  'Parking_garage': 0,\n",
       "  'Parking_street': 0,\n",
       "  'Parking_validated': 0,\n",
       "  'Parking_lot': 1,\n",
       "  'Parking_valet': 0,\n",
       "  'Has TV': 1,\n",
       "  'Outdoor Seating': 0,\n",
       "  'Attire_casual': 1,\n",
       "  'Ambience_romantic': 0,\n",
       "  'Ambience_intimate': 0,\n",
       "  'Ambience_touristy': 0,\n",
       "  'Ambience_hipster': 0,\n",
       "  'Ambience_divey': 0,\n",
       "  'Ambience_classy': 0,\n",
       "  'Ambience_trendy': 0,\n",
       "  'Ambience_upscale': 0,\n",
       "  'Ambience_casual': 1,\n",
       "  'Waiter Service': 1,\n",
       "  'Accepts Credit Cards': 1,\n",
       "  'Good for Kids': 1,\n",
       "  'Good For Groups': 1,\n",
       "  'Price Range': 1},\n",
       " {'Take-out': 1,\n",
       "  'Wi-Fi_free': 1,\n",
       "  'Takes Reservations': 0,\n",
       "  'Delivery': 0,\n",
       "  'Parking_garage': 0,\n",
       "  'Parking_street': 0,\n",
       "  'Parking_validated': 0,\n",
       "  'Parking_lot': 1,\n",
       "  'Parking_valet': 0,\n",
       "  'Wheelchair Accessible': 1,\n",
       "  'Attire_casual': 1,\n",
       "  'Accepts Credit Cards': 1,\n",
       "  'Good For Groups': 1,\n",
       "  'Price Range': 1},\n",
       " {'Take-out': 1, 'Has TV': 0, 'Outdoor Seating': 0, 'Attire_casual': 1},\n",
       " {},\n",
       " {},\n",
       " {'Wi-Fi_free': 1},\n",
       " {},\n",
       " {'Alcohol_full_bar': 1,\n",
       "  'Noise Level_loud': 1,\n",
       "  'Attire_casual': 1,\n",
       "  'Ambience_romantic': 0,\n",
       "  'Ambience_intimate': 0,\n",
       "  'Ambience_touristy': 0,\n",
       "  'Ambience_hipster': 0,\n",
       "  'Ambience_divey': 0,\n",
       "  'Ambience_classy': 0,\n",
       "  'Ambience_trendy': 0,\n",
       "  'Ambience_upscale': 0,\n",
       "  'Ambience_casual': 1,\n",
       "  'Good for Kids': 1,\n",
       "  'Wheelchair Accessible': 1,\n",
       "  'Good For Dancing': 0,\n",
       "  'Delivery': 0,\n",
       "  'Coat Check': 0,\n",
       "  'Smoking_outdoor': 1,\n",
       "  'Accepts Credit Cards': 1,\n",
       "  'Take-out': 1,\n",
       "  'Price Range': 2,\n",
       "  'Happy Hour': 1,\n",
       "  'Outdoor Seating': 1,\n",
       "  'Takes Reservations': 1,\n",
       "  'Waiter Service': 1,\n",
       "  'Wi-Fi_no': 1,\n",
       "  'Caters': 0,\n",
       "  'Good For_dessert': 0,\n",
       "  'Good For_latenight': 0,\n",
       "  'Good For_lunch': 0,\n",
       "  'Good For_dinner': 1,\n",
       "  'Good For_breakfast': 0,\n",
       "  'Good For_brunch': 0,\n",
       "  'Parking_garage': 0,\n",
       "  'Parking_street': 0,\n",
       "  'Parking_validated': 0,\n",
       "  'Parking_lot': 1,\n",
       "  'Parking_valet': 0,\n",
       "  'Has TV': 1,\n",
       "  'Good For Groups': 1}]"
      ]
     },
     "execution_count": 726,
     "metadata": {},
     "output_type": "execute_result"
    }
   ],
   "source": [
    "cst = ColumnSelectTransformer(['attributes'])\n",
    "X = cst.fit_transform(data[:10])\n",
    "attr = DictEncoder_flat()\n",
    "feat = attr.fit_transform(X)\n",
    "v = DictVectorizer(sparse=False)\n",
    "v.fit_transform(feat)\n",
    "feat"
   ]
  },
  {
   "cell_type": "code",
   "execution_count": null,
   "metadata": {},
   "outputs": [],
   "source": [
    "X = ad[0][0]\n",
    "asd = []\n",
    "for key, value in X.items():\n",
    "    t = []\n",
    "    #### Magic\n",
    "    asd.append(t)\n",
    "        \n",
    "res_dict = []\n",
    "for k in range(len(asd)):\n",
    "    it = iter(asd[k]) \n",
    "    res_dict.append(dict(zip(it, it)))\n",
    "res_dict\n",
    "    "
   ]
  },
  {
   "cell_type": "code",
   "execution_count": 1061,
   "metadata": {},
   "outputs": [
    {
     "data": {
      "text/plain": [
       "array([3.05882896, 3.23425007, 3.26598366, 2.7708312 , 2.82361592,\n",
       "       4.34079397, 4.34079397, 4.05355377, 4.34079397, 3.69618947])"
      ]
     },
     "execution_count": 1061,
     "metadata": {},
     "output_type": "execute_result"
    }
   ],
   "source": [
    "from sklearn.linear_model import Ridge\n",
    "from sklearn.svm import SVR\n",
    "cst = ColumnSelectTransformer(['attributes'])\n",
    "X = cst.fit_transform(data[:10])\n",
    "attr = DictEncoder_flat()\n",
    "feat = attr.fit_transform(X)\n",
    "v = DictVectorizer(sparse=False)\n",
    "vec = v.fit_transform(feat)\n",
    "pred = predict_residual(Ridge(alpha=30),SVR(kernel='poly', C=100, gamma='auto', degree=3, epsilon=.1,coef0=1),vec)\n",
    "pred.fit(vec,star_ratings[:10])\n",
    "pred.predict(vec)"
   ]
  },
  {
   "cell_type": "code",
   "execution_count": 1085,
   "metadata": {},
   "outputs": [],
   "source": [
    "class ColumnSelectTransformer(base.BaseEstimator, base.TransformerMixin):\n",
    "    \n",
    "    def __init__(self, col_names):\n",
    "        self.col_names = col_names  # We will need these in transform()\n",
    "    \n",
    "    def fit(self, X, y):\n",
    "        \n",
    "        # This transformer doesn't need to learn anything about the data,\n",
    "        # so it can just return self without any further processing\n",
    "        return self\n",
    "    \n",
    "    def transform(self, X):\n",
    "        result = []\n",
    "        for ele in X:\n",
    "            ###Magic\n",
    "        return result"
   ]
  },
  {
   "cell_type": "code",
   "execution_count": 1468,
   "metadata": {},
   "outputs": [],
   "source": [
    "class DictEncoder_flat(base.BaseEstimator, base.TransformerMixin):\n",
    "    \n",
    "    def fit(self, X,y):\n",
    "        self.X = X\n",
    "        return self\n",
    "    \n",
    "    def transform(self,X):\n",
    "        attri = []\n",
    "        for i in range(len(X)):\n",
    "            asd= []\n",
    "            ###Magic\n",
    "            for k in range(len(attri)):\n",
    "                it = iter(attri[k]) \n",
    "                res_dict.append(dict(zip(it, it)))\n",
    "                \n",
    "        return res_dict"
   ]
  },
  {
   "cell_type": "code",
   "execution_count": 1194,
   "metadata": {},
   "outputs": [],
   "source": [
    "class predict_residual(base.BaseEstimator, base.RegressorMixin):\n",
    "    \n",
    "    def __init__(self, est1,est2):\n",
    "        self.est1 = est1  # We will need these in transform()\n",
    "        self.est2 = est2\n",
    "        #self.X = X\n",
    "       \n",
    "    \n",
    "    def fit(self, X, y):\n",
    "        self.X = X\n",
    "        self.y = y\n",
    "        self.est1.fit(X,y)\n",
    "        ########\n",
    "        self.est2.fit(X,y_pred)\n",
    "        return self\n",
    "    \n",
    "    def predict(self, X):\n",
    "        y1 = self.est1.predict(X)\n",
    "        y2 = self.est2.predict(X)\n",
    "        return ####"
   ]
  },
  {
   "cell_type": "code",
   "execution_count": 1469,
   "metadata": {},
   "outputs": [],
   "source": [
    "from sklearn.feature_extraction import DictVectorizer\n",
    "from sklearn.pipeline import Pipeline\n",
    "from sklearn.linear_model import Ridge\n",
    "from sklearn.svm import SVR #SVR(kernel='rbf', C=100, gamma=0.1, epsilon=.1)\n",
    "import lightgbm as lgb #lgb.LGBMRegressor(num_leaves=100,learning_rate=0.2,n_estimators=20))\n",
    "import xgboost as xgb\n",
    "pipe_3 = Pipeline([\n",
    "    ('transform',ColumnSelectTransformer(['attributes'])),\n",
    "    ('Flat',DictEncoder_flat()),\n",
    "    ('Vec',DictVectorizer(sparse=False)),\n",
    "    #('Res', predict_residual(Ridge(alpha=0.01),xgb.XGBRegressor()))\n",
    "    ('Ridge',Ridge(alpha=30))\n",
    "    ])"
   ]
  },
  {
   "cell_type": "code",
   "execution_count": 1470,
   "metadata": {},
   "outputs": [
    {
     "data": {
      "text/plain": [
       "Pipeline(memory=None,\n",
       "         steps=[('transform',\n",
       "                 ColumnSelectTransformer(col_names=['attributes'])),\n",
       "                ('Flat', DictEncoder_flat()),\n",
       "                ('Vec',\n",
       "                 DictVectorizer(dtype=<class 'numpy.float64'>, separator='=',\n",
       "                                sort=True, sparse=False)),\n",
       "                ('Ridge',\n",
       "                 Ridge(alpha=30, copy_X=True, fit_intercept=True, max_iter=None,\n",
       "                       normalize=False, random_state=None, solver='auto',\n",
       "                       tol=0.001))],\n",
       "         verbose=False)"
      ]
     },
     "execution_count": 1470,
     "metadata": {},
     "output_type": "execute_result"
    }
   ],
   "source": [
    "pipe_3.fit(data[:5], star_ratings[:5])"
   ]
  },
  {
   "cell_type": "code",
   "execution_count": 1472,
   "metadata": {},
   "outputs": [
    {
     "data": {
      "text/plain": [
       "array([4.0204793])"
      ]
     },
     "execution_count": 1472,
     "metadata": {},
     "output_type": "execute_result"
    }
   ],
   "source": [
    "pipe_3.predict(data[1:2])"
   ]
  },
  {
   "cell_type": "code",
   "execution_count": 1203,
   "metadata": {},
   "outputs": [
    {
     "name": "stdout",
     "output_type": "stream",
     "text": [
      "==================\n",
      "Your score:  0.9584860718641749\n",
      "==================\n"
     ]
    }
   ],
   "source": [
    "grader.score('ml__attribute_model',pipe_3.predict)"
   ]
  },
  {
   "cell_type": "markdown",
   "metadata": {
    "slideshow": null
   },
   "source": [
    "## full_model"
   ]
  },
  {
   "cell_type": "markdown",
   "metadata": {
    "slideshow": null
   },
   "source": [
    "So far we have only built models based on individual features.  Now we will build an ensemble regressor that averages together the estimates of the four previous regressors.\n",
    "\n",
    "In order to use the existing models as input to an estimator, we will have to turn them into transformers.  (A pipeline can contain at most a single estimator.)  Build a custom `ModelTransformer` class that takes an estimator as an argument.  When `fit()` is called, the estimator should be fit.  When `transform()` is called, the estimator's `predict()` method should be called, and its results returned.\n",
    "\n",
    "Note that the output of the `transform()` method should be a 2-D array with a single column, in order for it to work well with the Scikit Learn pipeline.  If you're using NumPy arrays, you can use `.reshape(-1, 1)` to create a column vector.  If you are just using Python lists, you will want a list of lists of single elements."
   ]
  },
  {
   "cell_type": "code",
   "execution_count": 1329,
   "metadata": {
    "slideshow": null
   },
   "outputs": [],
   "source": [
    "class City_Transformer(base.BaseEstimator, base.TransformerMixin):\n",
    "    \n",
    "    def __init__(self, est1):\n",
    "        self.est1 = est1# What needs to be done here?\n",
    "    \n",
    "    def fit(self, X, y):\n",
    "        self.est1.fit(X,y)\n",
    "        return self\n",
    "        \n",
    "    \n",
    "    def transform(self, X):\n",
    "        result = self.est1.predict(X)\n",
    "        return #####\n",
    "        # Use predict on the stored estimator as a \"transformation\".\n",
    "        # Be sure to return a 2-D array."
   ]
  },
  {
   "cell_type": "code",
   "execution_count": 1512,
   "metadata": {},
   "outputs": [],
   "source": [
    "class Lat_Transformer(base.BaseEstimator, base.TransformerMixin):\n",
    "    \n",
    "    def __init__(self, est1):\n",
    "        self.est1 = est1# What needs to be done here?\n",
    "    \n",
    "    def fit(self, X, y):\n",
    "        self.est1.fit(X,y)\n",
    "        return self\n",
    "        # Fit the stored estimator.\n",
    "        # Question: what should be returned?\n",
    "    \n",
    "    def transform(self, X):\n",
    "        result = self.est1.predict(X)\n",
    "        return np.asarray(result).reshape(-1, 1)\n",
    "        # Use predict on the stored estimator as a \"transformation\".\n",
    "        # Be sure to return a 2-D array."
   ]
  },
  {
   "cell_type": "code",
   "execution_count": 1513,
   "metadata": {},
   "outputs": [],
   "source": [
    "class Cat_Transformer(base.BaseEstimator, base.TransformerMixin):\n",
    "    \n",
    "    def __init__(self, est1):\n",
    "        self.r = []\n",
    "        self.est1 = est1# What needs to be done here?\n",
    "    \n",
    "    def fit(self, X, y):\n",
    "        self.est1.fit(X,y)\n",
    "        return self\n",
    "        # Fit the stored estimator.\n",
    "        # Question: what should be returned?\n",
    "    \n",
    "    def transform(self, X):\n",
    "        result = self.est1.predict(X)\n",
    "        return np.asarray(result).reshape(-1, 1)\n",
    "        # Use predict on the stored estimator as a \"transformation\".\n",
    "        # Be sure to return a 2-D array."
   ]
  },
  {
   "cell_type": "code",
   "execution_count": 1516,
   "metadata": {},
   "outputs": [],
   "source": [
    "class Att_Transformer(base.BaseEstimator, base.TransformerMixin):\n",
    "    \n",
    "    def __init__(self, est1):\n",
    "        self.r = []\n",
    "        self.est1 = est1# What needs to be done here?\n",
    "    \n",
    "    def fit(self, X, y):\n",
    "        self.est1.fit(X,y)\n",
    "        return self\n",
    "        # Fit the stored estimator.\n",
    "        # Question: what should be returned?\n",
    "    \n",
    "    def transform(self, X):\n",
    "        result = self.est1.predict(X)\n",
    "        return np.asarray(result).reshape(-1, 1)\n",
    "        # Use predict on the stored estimator as a \"transformation\".\n",
    "        # Be sure to return a 2-D array.\n",
    "        "
   ]
  },
  {
   "cell_type": "code",
   "execution_count": 1522,
   "metadata": {
    "slideshow": null
   },
   "outputs": [],
   "source": [
    "from sklearn.pipeline import FeatureUnion\n",
    "# FeatureUnions use the same syntax as Pipelines\n",
    "\n",
    "union = Pipeline([\n",
    "  ('features', FeatureUnion([\n",
    "    ('city', Pipeline([\n",
    "      ('cst', City_Transformer(CityEstimator())),\n",
    "    ])),\n",
    "    ('neighborhood', Pipeline([\n",
    "      ('transform',ColumnSelectTransformer(['latitude', 'longitude'])),\n",
    "        ('KNR',Lat_Transformer(KNeighborsRegressor(n_neighbors=60))),\n",
    "    ])),\n",
    "    ('category', Pipeline([\n",
    "      ('transform',ColumnSelectTransformer(['categories'])),\n",
    "        ('Enc',DictEncoder()),\n",
    "        ('Vec',DictVectorizer(sparse=False)),\n",
    "        ('Ridge_cat',Cat_Transformer(Ridge(alpha=30))),\n",
    "    ])),\n",
    "    ('attributes', Pipeline([\n",
    "       ('transform',ColumnSelectTransformer(['attributes'])),\n",
    "        ('Flat',DictEncoder_flat()),\n",
    "        ('Vec',DictVectorizer(sparse=False)),\n",
    "        ('Ridge_att',Att_Transformer(Ridge(alpha=30))),\n",
    "      ]))\n",
    "  ])),\n",
    "  ('final classifier', linear_model.LinearRegression())\n",
    "])"
   ]
  },
  {
   "cell_type": "code",
   "execution_count": 1523,
   "metadata": {},
   "outputs": [
    {
     "data": {
      "text/plain": [
       "Pipeline(memory=None,\n",
       "         steps=[('features',\n",
       "                 FeatureUnion(n_jobs=None,\n",
       "                              transformer_list=[('city',\n",
       "                                                 Pipeline(memory=None,\n",
       "                                                          steps=[('cst',\n",
       "                                                                  City_Transformer(est1=CityEstimator()))],\n",
       "                                                          verbose=False)),\n",
       "                                                ('neighborhood',\n",
       "                                                 Pipeline(memory=None,\n",
       "                                                          steps=[('transform',\n",
       "                                                                  ColumnSelectTransformer(col_names=['latitude',\n",
       "                                                                                                     'longitude'])),\n",
       "                                                                 ('KNR',\n",
       "                                                                  Lat_Transformer(est1=KNeighborsRegressor(a...\n",
       "                                                                                 sort=True,\n",
       "                                                                                 sparse=False)),\n",
       "                                                                 ('Ridge_att',\n",
       "                                                                  Att_Transformer(est1=Ridge(alpha=30,\n",
       "                                                                                             copy_X=True,\n",
       "                                                                                             fit_intercept=True,\n",
       "                                                                                             max_iter=None,\n",
       "                                                                                             normalize=False,\n",
       "                                                                                             random_state=None,\n",
       "                                                                                             solver='auto',\n",
       "                                                                                             tol=0.001)))],\n",
       "                                                          verbose=False))],\n",
       "                              transformer_weights=None, verbose=False)),\n",
       "                ('final classifier',\n",
       "                 LinearRegression(copy_X=True, fit_intercept=True, n_jobs=None,\n",
       "                                  normalize=False))],\n",
       "         verbose=False)"
      ]
     },
     "execution_count": 1523,
     "metadata": {},
     "output_type": "execute_result"
    }
   ],
   "source": [
    "union.fit(data, star_ratings)"
   ]
  },
  {
   "cell_type": "code",
   "execution_count": 1506,
   "metadata": {
    "slideshow": null
   },
   "outputs": [
    {
     "data": {
      "text/plain": [
       "Pipeline(memory=None,\n",
       "         steps=[('features',\n",
       "                 FeatureUnion(n_jobs=None,\n",
       "                              transformer_list=[('city',\n",
       "                                                 Pipeline(memory=None,\n",
       "                                                          steps=[('cst',\n",
       "                                                                  City_Transformer(est1=CityEstimator()))],\n",
       "                                                          verbose=False)),\n",
       "                                                ('neighborhood',\n",
       "                                                 Pipeline(memory=None,\n",
       "                                                          steps=[('lat',\n",
       "                                                                  Lat_Transformer(col_names=['latitude',\n",
       "                                                                                             'longitude'],\n",
       "                                                                                  est1=KNeighborsRegressor(algorithm='auto',\n",
       "                                                                                                           leaf_size=30,\n",
       "                                                                                                           metric='mi...\n",
       "                                                          steps=[('att cst',\n",
       "                                                                  Att_Transformer(col_names=['attributes'],\n",
       "                                                                                  est1=Ridge(alpha=30,\n",
       "                                                                                             copy_X=True,\n",
       "                                                                                             fit_intercept=True,\n",
       "                                                                                             max_iter=None,\n",
       "                                                                                             normalize=False,\n",
       "                                                                                             random_state=None,\n",
       "                                                                                             solver='auto',\n",
       "                                                                                             tol=0.001)))],\n",
       "                                                          verbose=False))],\n",
       "                              transformer_weights=None, verbose=False)),\n",
       "                ('final classifier',\n",
       "                 LinearRegression(copy_X=True, fit_intercept=True, n_jobs=None,\n",
       "                                  normalize=False))],\n",
       "         verbose=False)"
      ]
     },
     "execution_count": 1506,
     "metadata": {},
     "output_type": "execute_result"
    }
   ],
   "source": [
    "union.fit(data, star_ratings)"
   ]
  },
  {
   "cell_type": "code",
   "execution_count": 1524,
   "metadata": {
    "slideshow": null
   },
   "outputs": [
    {
     "name": "stdout",
     "output_type": "stream",
     "text": [
      "==================\n",
      "Your score:  0.957400674797936\n",
      "==================\n"
     ]
    }
   ],
   "source": [
    "grader.score('ml__full_model', union.predict)  # Edit to appropriate name"
   ]
  }
 ],
 "metadata": {
  "kernelspec": {
   "display_name": "Python 3",
   "language": "python",
   "name": "python3"
  },
  "language_info": {
   "codemirror_mode": {
    "name": "ipython",
    "version": 3
   },
   "file_extension": ".py",
   "mimetype": "text/x-python",
   "name": "python",
   "nbconvert_exporter": "python",
   "pygments_lexer": "ipython3",
   "version": "3.7.4"
  },
  "nbclean": true
 },
 "nbformat": 4,
 "nbformat_minor": 4
}
